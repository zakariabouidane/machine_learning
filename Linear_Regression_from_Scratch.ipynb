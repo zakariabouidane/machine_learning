{
 "cells": [
  {
   "cell_type": "code",
   "execution_count": 37,
   "id": "06a7b191",
   "metadata": {},
   "outputs": [],
   "source": [
    "import numpy as np\n",
    "from sklearn.datasets import make_regression\n",
    "import matplotlib.pyplot as plt"
   ]
  },
  {
   "cell_type": "markdown",
   "id": "bcdf2052",
   "metadata": {},
   "source": [
    "# 1. Dataset "
   ]
  },
  {
   "cell_type": "code",
   "execution_count": 38,
   "id": "e93c0fd1",
   "metadata": {},
   "outputs": [
    {
     "data": {
      "text/plain": [
       "<matplotlib.collections.PathCollection at 0x12625d790>"
      ]
     },
     "execution_count": 38,
     "metadata": {},
     "output_type": "execute_result"
    },
    {
     "data": {
      "image/png": "[encoded data removed]",
      "text/plain": [
       "<Figure size 432x288 with 1 Axes>"
      ]
     },
     "metadata": {
      "needs_background": "light"
     },
     "output_type": "display_data"
    }
   ],
   "source": [
    "x, y = make_regression(n_samples=100, n_features=1, noise=10)\n",
    "plt.scatter(x, y)"
   ]
  },
  {
   "cell_type": "code",
   "execution_count": 41,
   "id": "b0b581c0",
   "metadata": {},
   "outputs": [
    {
     "name": "stdout",
     "output_type": "stream",
     "text": [
      "(100, 1)\n",
      "(100, 1)\n"
     ]
    }
   ],
   "source": [
    "print(x.shape)\n",
    "y = y.reshape(y.shape[0],1)\n",
    "print(y.shape)"
   ]
  },
  {
   "cell_type": "code",
   "execution_count": 44,
   "id": "62df0ef4",
   "metadata": {},
   "outputs": [
    {
     "data": {
      "text/plain": [
       "array([[ 0.56975603,  1.        ],\n",
       "       [-0.77589334,  1.        ],\n",
       "       [ 0.24899005,  1.        ],\n",
       "       [-0.12734129,  1.        ],\n",
       "       [-2.98408088,  1.        ],\n",
       "       [-0.92657783,  1.        ],\n",
       "       [-0.45926885,  1.        ],\n",
       "       [ 0.425064  ,  1.        ],\n",
       "       [-1.28035879,  1.        ],\n",
       "       [ 1.13022893,  1.        ],\n",
       "       [-0.3779768 ,  1.        ],\n",
       "       [ 0.30790199,  1.        ],\n",
       "       [-0.82942404,  1.        ],\n",
       "       [ 1.06416736,  1.        ],\n",
       "       [-0.2077026 ,  1.        ],\n",
       "       [ 1.30689114,  1.        ],\n",
       "       [ 0.7618139 ,  1.        ],\n",
       "       [ 0.05052542,  1.        ],\n",
       "       [-0.73992742,  1.        ],\n",
       "       [-0.12728874,  1.        ],\n",
       "       [ 0.62161268,  1.        ],\n",
       "       [-0.14484955,  1.        ],\n",
       "       [-0.13947295,  1.        ],\n",
       "       [ 0.24323392,  1.        ],\n",
       "       [-1.09980749,  1.        ],\n",
       "       [-0.74642195,  1.        ],\n",
       "       [ 1.34894979,  1.        ],\n",
       "       [ 1.2450591 ,  1.        ],\n",
       "       [-0.07068929,  1.        ],\n",
       "       [-1.38225355,  1.        ],\n",
       "       [-0.0780969 ,  1.        ],\n",
       "       [ 0.60366206,  1.        ],\n",
       "       [ 0.64775944,  1.        ],\n",
       "       [-0.68956421,  1.        ],\n",
       "       [ 0.75634809,  1.        ],\n",
       "       [-0.70453826,  1.        ],\n",
       "       [ 2.87791459,  1.        ],\n",
       "       [ 1.56960686,  1.        ],\n",
       "       [ 0.93639024,  1.        ],\n",
       "       [ 0.06653712,  1.        ],\n",
       "       [ 1.3696107 ,  1.        ],\n",
       "       [ 0.8256365 ,  1.        ],\n",
       "       [ 0.14851072,  1.        ],\n",
       "       [-0.2856097 ,  1.        ],\n",
       "       [ 0.24299501,  1.        ],\n",
       "       [ 1.40070129,  1.        ],\n",
       "       [-0.79686625,  1.        ],\n",
       "       [ 0.25529312,  1.        ],\n",
       "       [-1.4368416 ,  1.        ],\n",
       "       [-0.36528385,  1.        ],\n",
       "       [-0.81479096,  1.        ],\n",
       "       [-0.23344473,  1.        ],\n",
       "       [-1.14945698,  1.        ],\n",
       "       [ 1.18369081,  1.        ],\n",
       "       [-0.49836836,  1.        ],\n",
       "       [ 0.90897324,  1.        ],\n",
       "       [-1.19488525,  1.        ],\n",
       "       [-0.82374572,  1.        ],\n",
       "       [ 0.29964078,  1.        ],\n",
       "       [-1.33874146,  1.        ],\n",
       "       [ 0.44225508,  1.        ],\n",
       "       [-1.46613139,  1.        ],\n",
       "       [ 0.45752779,  1.        ],\n",
       "       [ 0.42720813,  1.        ],\n",
       "       [-0.33844899,  1.        ],\n",
       "       [ 0.93286271,  1.        ],\n",
       "       [ 0.62388066,  1.        ],\n",
       "       [ 0.95269943,  1.        ],\n",
       "       [ 0.86655997,  1.        ],\n",
       "       [-1.03669068,  1.        ],\n",
       "       [ 0.37273089,  1.        ],\n",
       "       [-0.03320943,  1.        ],\n",
       "       [-0.11172521,  1.        ],\n",
       "       [ 0.47634797,  1.        ],\n",
       "       [ 1.13657191,  1.        ],\n",
       "       [ 1.02266967,  1.        ],\n",
       "       [-1.82263519,  1.        ],\n",
       "       [ 0.98265129,  1.        ],\n",
       "       [-0.85920155,  1.        ],\n",
       "       [ 1.5055949 ,  1.        ],\n",
       "       [-0.07261178,  1.        ],\n",
       "       [-0.95803156,  1.        ],\n",
       "       [ 0.43739616,  1.        ],\n",
       "       [ 0.0759033 ,  1.        ],\n",
       "       [ 0.23704488,  1.        ],\n",
       "       [-0.11742692,  1.        ],\n",
       "       [ 2.6364631 ,  1.        ],\n",
       "       [-0.34776452,  1.        ],\n",
       "       [-1.41215817,  1.        ],\n",
       "       [-0.8607919 ,  1.        ],\n",
       "       [-1.64806223,  1.        ],\n",
       "       [ 1.72218579,  1.        ],\n",
       "       [-0.26033451,  1.        ],\n",
       "       [ 0.53890021,  1.        ],\n",
       "       [-0.19273993,  1.        ],\n",
       "       [-0.68409553,  1.        ],\n",
       "       [ 0.33988311,  1.        ],\n",
       "       [ 0.39583819,  1.        ],\n",
       "       [-0.62263827,  1.        ],\n",
       "       [ 0.7242397 ,  1.        ]])"
      ]
     },
     "execution_count": 44,
     "metadata": {},
     "output_type": "execute_result"
    }
   ],
   "source": [
    "# matrice X\n",
    "X = np.hstack((x,np.ones(x.shape)))\n",
    "X"
   ]
  },
  {
   "cell_type": "code",
   "execution_count": 47,
   "id": "e2a5a92e",
   "metadata": {},
   "outputs": [
    {
     "data": {
      "text/plain": [
       "array([[0.14988349],\n",
       "       [1.3039705 ]])"
      ]
     },
     "execution_count": 47,
     "metadata": {},
     "output_type": "execute_result"
    }
   ],
   "source": [
    "theta = np.random.randn(2,1)\n",
    "theta"
   ]
  },
  {
   "cell_type": "markdown",
   "id": "53223a7d",
   "metadata": {},
   "source": [
    "# 2. Model"
   ]
  },
  {
   "cell_type": "code",
   "execution_count": 48,
   "id": "0acd1469",
   "metadata": {},
   "outputs": [],
   "source": [
    "def model(X, theta):\n",
    "    return X.dot(theta)"
   ]
  },
  {
   "cell_type": "code",
   "execution_count": 53,
   "id": "eeeb314f",
   "metadata": {},
   "outputs": [
    {
     "data": {
      "text/plain": [
       "[<matplotlib.lines.Line2D at 0x126538df0>]"
      ]
     },
     "execution_count": 53,
     "metadata": {},
     "output_type": "execute_result"
    },
    {
     "data": {
      "image/png": "[encoded data removed]",
      "text/plain": [
       "<Figure size 432x288 with 1 Axes>"
      ]
     },
     "metadata": {
      "needs_background": "light"
     },
     "output_type": "display_data"
    }
   ],
   "source": [
    "plt.scatter(x, y)\n",
    "plt.plot(x, model(X, theta), c=\"r\")"
   ]
  },
  {
   "cell_type": "markdown",
   "id": "48f8b6b7",
   "metadata": {},
   "source": [
    "# 3. Cost Function"
   ]
  },
  {
   "cell_type": "code",
   "execution_count": 54,
   "id": "da60627a",
   "metadata": {},
   "outputs": [],
   "source": [
    "def cost_function(X, y, theta):\n",
    "    m = len(y)\n",
    "    return 1/(2*m) * np.sum((model(X, theta) - y)**2)"
   ]
  },
  {
   "cell_type": "code",
   "execution_count": 55,
   "id": "cd807f9c",
   "metadata": {},
   "outputs": [
    {
     "data": {
      "text/plain": [
       "3792.365361286793"
      ]
     },
     "execution_count": 55,
     "metadata": {},
     "output_type": "execute_result"
    }
   ],
   "source": [
    "cost_function(X, y, theta)"
   ]
  },
  {
   "cell_type": "markdown",
   "id": "d96c910d",
   "metadata": {},
   "source": [
    "# 4. Gradients and Gradient Descent"
   ]
  },
  {
   "cell_type": "code",
   "execution_count": 65,
   "id": "9ef088cf",
   "metadata": {},
   "outputs": [],
   "source": [
    "def grad(X, y, theta):\n",
    "    m = len(y)\n",
    "    return 1/m * X.T.dot(model(X, theta) - y)"
   ]
  },
  {
   "cell_type": "code",
   "execution_count": 69,
   "id": "50c4a152",
   "metadata": {},
   "outputs": [],
   "source": [
    "def gradient_descent(X, y, theta, learning_rate, n_iterations):\n",
    "    cost_history = np.zeros(n_iterations)\n",
    "    for i in range(0, n_iterations):\n",
    "        theta = theta - learning_rate * grad(X, y, theta)\n",
    "        cost_history[i] = cost_function(X, y, theta)\n",
    "        \n",
    "    return theta, cost_history"
   ]
  },
  {
   "cell_type": "code",
   "execution_count": 70,
   "id": "90574220",
   "metadata": {},
   "outputs": [],
   "source": [
    "final_theta, cost_history = gradient_descent(X, y, theta, learning_rate=0.01, n_iterations=1000)"
   ]
  },
  {
   "cell_type": "code",
   "execution_count": 71,
   "id": "3feabeda",
   "metadata": {},
   "outputs": [
    {
     "data": {
      "text/plain": [
       "array([[90.37136793],\n",
       "       [-1.54392021]])"
      ]
     },
     "execution_count": 71,
     "metadata": {},
     "output_type": "execute_result"
    }
   ],
   "source": [
    "final_theta"
   ]
  },
  {
   "cell_type": "code",
   "execution_count": 72,
   "id": "e1e37c60",
   "metadata": {},
   "outputs": [
    {
     "data": {
      "text/plain": [
       "[<matplotlib.lines.Line2D at 0x1268992e0>]"
      ]
     },
     "execution_count": 72,
     "metadata": {},
     "output_type": "execute_result"
    },
    {
     "data": {
      "image/png": "[encoded data removed]",
      "text/plain": [
       "<Figure size 432x288 with 1 Axes>"
      ]
     },
     "metadata": {
      "needs_background": "light"
     },
     "output_type": "display_data"
    }
   ],
   "source": [
    "predictions = model(X, final_theta)\n",
    "plt.scatter(x,y)\n",
    "plt.plot(x, predictions, c='r')"
   ]
  },
  {
   "cell_type": "code",
   "execution_count": 74,
   "id": "460e66df",
   "metadata": {},
   "outputs": [
    {
     "data": {
      "text/plain": [
       "[<matplotlib.lines.Line2D at 0x12697ad30>]"
      ]
     },
     "execution_count": 74,
     "metadata": {},
     "output_type": "execute_result"
    },
    {
     "data": {
      "image/png": "[encoded data removed]",
      "text/plain": [
       "<Figure size 432x288 with 1 Axes>"
      ]
     },
     "metadata": {
      "needs_background": "light"
     },
     "output_type": "display_data"
    }
   ],
   "source": [
    "plt.plot(range(1000), cost_history)"
   ]
  },
  {
   "cell_type": "code",
   "execution_count": 75,
   "id": "02cbc29d",
   "metadata": {},
   "outputs": [],
   "source": [
    "def determination_coef(y, pred):\n",
    "    u = ((y - pred)**2).sum()\n",
    "    v = ((y - y.mean())**2).sum()\n",
    "    return 1 - u/v"
   ]
  },
  {
   "cell_type": "code",
   "execution_count": 76,
   "id": "87a257d2",
   "metadata": {},
   "outputs": [
    {
     "data": {
      "text/plain": [
       "0.9873442581449386"
      ]
     },
     "execution_count": 76,
     "metadata": {},
     "output_type": "execute_result"
    }
   ],
   "source": [
    "determination_coef(y, predictions)"
   ]
  },
  {
   "cell_type": "code",
   "execution_count": null,
   "id": "829587cf",
   "metadata": {},
   "outputs": [],
   "source": []
  }
 ],
 "metadata": {
  "kernelspec": {
   "display_name": "Python 3 (ipykernel)",
   "language": "python",
   "name": "python3"
  },
  "language_info": {
   "codemirror_mode": {
    "name": "ipython",
    "version": 3
   },
   "file_extension": ".py",
   "mimetype": "text/x-python",
   "name": "python",
   "nbconvert_exporter": "python",
   "pygments_lexer": "ipython3",
   "version": "3.9.5"
  }
 },
 "nbformat": 4,
 "nbformat_minor": 5
}
