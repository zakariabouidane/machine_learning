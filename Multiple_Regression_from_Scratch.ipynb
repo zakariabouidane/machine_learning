{
 "cells": [
  {
   "cell_type": "code",
   "execution_count": 52,
   "id": "06a7b191",
   "metadata": {},
   "outputs": [],
   "source": [
    "import numpy as np\n",
    "from sklearn.datasets import make_regression\n",
    "import matplotlib.pyplot as plt"
   ]
  },
  {
   "cell_type": "markdown",
   "id": "bcdf2052",
   "metadata": {},
   "source": [
    "# 1. Dataset "
   ]
  },
  {
   "cell_type": "code",
   "execution_count": 53,
   "id": "e93c0fd1",
   "metadata": {},
   "outputs": [
    {
     "data": {
      "text/plain": [
       "<matplotlib.collections.PathCollection at 0x11a96f160>"
      ]
     },
     "execution_count": 53,
     "metadata": {},
     "output_type": "execute_result"
    },
    {
     "data": {
      "image/png": "[encoded data removed]",
      "text/plain": [
       "<Figure size 432x288 with 1 Axes>"
      ]
     },
     "metadata": {
      "needs_background": "light"
     },
     "output_type": "display_data"
    }
   ],
   "source": [
    "x, y = make_regression(n_samples=100, n_features=2, noise=10)\n",
    "plt.scatter(x[:,0], y)"
   ]
  },
  {
   "cell_type": "code",
   "execution_count": 54,
   "id": "b0b581c0",
   "metadata": {},
   "outputs": [
    {
     "name": "stdout",
     "output_type": "stream",
     "text": [
      "(100, 2)\n",
      "(100,)\n",
      "(100, 1)\n"
     ]
    }
   ],
   "source": [
    "# Checking dimensions\n",
    "print(x.shape)\n",
    "print(y.shape)\n",
    "\n",
    "# Redimension y\n",
    "y = y.reshape(y.shape[0],1)\n",
    "print(y.shape)"
   ]
  },
  {
   "cell_type": "code",
   "execution_count": 55,
   "id": "62df0ef4",
   "metadata": {},
   "outputs": [
    {
     "name": "stdout",
     "output_type": "stream",
     "text": [
      "(100, 3)\n",
      "[[-0.10230024  1.25260302  1.        ]\n",
      " [-0.11258141  0.83155966  1.        ]\n",
      " [-0.52600108 -0.21719036  1.        ]\n",
      " [ 0.37027007  0.37971447  1.        ]\n",
      " [ 0.1312587  -0.31497787  1.        ]\n",
      " [ 0.32167321 -0.73764942  1.        ]\n",
      " [-0.42900826 -0.15763183  1.        ]\n",
      " [-0.73423016 -0.27957552  1.        ]\n",
      " [-0.39996309  1.9133084   1.        ]\n",
      " [ 0.30215706  0.30779081  1.        ]]\n"
     ]
    }
   ],
   "source": [
    "# Creating matrix X, including biais\n",
    "X = np.hstack((x,np.ones((x.shape[0],1))))\n",
    "print(X.shape)\n",
    "print(X[:10])"
   ]
  },
  {
   "cell_type": "code",
   "execution_count": 56,
   "id": "e2a5a92e",
   "metadata": {},
   "outputs": [
    {
     "data": {
      "text/plain": [
       "array([[-1.8091052 ],\n",
       "       [ 0.10396576],\n",
       "       [-0.19738021]])"
      ]
     },
     "execution_count": 56,
     "metadata": {},
     "output_type": "execute_result"
    }
   ],
   "source": [
    "# Intitializing theta randomly\n",
    "theta = np.random.randn(3,1)\n",
    "theta"
   ]
  },
  {
   "cell_type": "markdown",
   "id": "53223a7d",
   "metadata": {},
   "source": [
    "# 2. Model"
   ]
  },
  {
   "cell_type": "code",
   "execution_count": 57,
   "id": "0acd1469",
   "metadata": {},
   "outputs": [],
   "source": [
    "def model(X, theta):\n",
    "    return X.dot(theta)"
   ]
  },
  {
   "cell_type": "code",
   "execution_count": 58,
   "id": "eeeb314f",
   "metadata": {},
   "outputs": [
    {
     "data": {
      "text/plain": [
       "<matplotlib.collections.PathCollection at 0x11aa0f400>"
      ]
     },
     "execution_count": 58,
     "metadata": {},
     "output_type": "execute_result"
    },
    {
     "data": {
      "image/png": "[encoded data removed]",
      "text/plain": [
       "<Figure size 432x288 with 1 Axes>"
      ]
     },
     "metadata": {
      "needs_background": "light"
     },
     "output_type": "display_data"
    }
   ],
   "source": [
    "plt.scatter(x[:,0], y)\n",
    "plt.scatter(x[:,0], model(X, theta), c=\"r\")"
   ]
  },
  {
   "cell_type": "markdown",
   "id": "48f8b6b7",
   "metadata": {},
   "source": [
    "# 3. Cost Function"
   ]
  },
  {
   "cell_type": "code",
   "execution_count": 59,
   "id": "da60627a",
   "metadata": {},
   "outputs": [],
   "source": [
    "def cost_function(X, y, theta):\n",
    "    m = len(y)\n",
    "    return 1/(2*m) * np.sum((model(X, theta) - y)**2)"
   ]
  },
  {
   "cell_type": "code",
   "execution_count": 60,
   "id": "cd807f9c",
   "metadata": {},
   "outputs": [
    {
     "data": {
      "text/plain": [
       "2574.0940617976485"
      ]
     },
     "execution_count": 60,
     "metadata": {},
     "output_type": "execute_result"
    }
   ],
   "source": [
    "cost_function(X, y, theta)"
   ]
  },
  {
   "cell_type": "markdown",
   "id": "d96c910d",
   "metadata": {},
   "source": [
    "# 4. Gradients and Gradient Descent"
   ]
  },
  {
   "cell_type": "code",
   "execution_count": 72,
   "id": "9ef088cf",
   "metadata": {},
   "outputs": [],
   "source": [
    "def grad(X, y, theta):\n",
    "    m = len(y)\n",
    "    return 1/m * X.T.dot(model(X, theta) - y)"
   ]
  },
  {
   "cell_type": "code",
   "execution_count": 73,
   "id": "50c4a152",
   "metadata": {},
   "outputs": [],
   "source": [
    "def gradient_descent(X, y, theta, learning_rate, n_iterations):\n",
    "    \n",
    "    cost_history = np.zeros(n_iterations)\n",
    "    #theta_history = np.zeros((n_iterations, 3))\n",
    "    for i in range(0, n_iterations):\n",
    "        theta = theta - learning_rate * grad(X, y, theta)\n",
    "        cost_history[i] = cost_function(X, y, theta)\n",
    "        #theta_history[i,:] = theta.T\n",
    "    return theta, cost_history, theta_history"
   ]
  },
  {
   "cell_type": "markdown",
   "id": "7a3784aa",
   "metadata": {},
   "source": [
    "# 5. Training Phase"
   ]
  },
  {
   "cell_type": "code",
   "execution_count": 74,
   "id": "90574220",
   "metadata": {},
   "outputs": [],
   "source": [
    "n_iterations = 1000\n",
    "learning_rate = 0.01\n",
    "\n",
    "final_theta, cost_history, theta_history = gradient_descent(X, y, theta, learning_rate, n_iterations)"
   ]
  },
  {
   "cell_type": "code",
   "execution_count": 75,
   "id": "3feabeda",
   "metadata": {},
   "outputs": [
    {
     "data": {
      "text/plain": [
       "array([[45.45135033],\n",
       "       [53.39971115],\n",
       "       [ 0.35436669]])"
      ]
     },
     "execution_count": 75,
     "metadata": {},
     "output_type": "execute_result"
    }
   ],
   "source": [
    "final_theta\n",
    "#print(theta_history.shape)"
   ]
  },
  {
   "cell_type": "code",
   "execution_count": 76,
   "id": "e1e37c60",
   "metadata": {},
   "outputs": [
    {
     "data": {
      "text/plain": [
       "<matplotlib.collections.PathCollection at 0x11ac6ba30>"
      ]
     },
     "execution_count": 76,
     "metadata": {},
     "output_type": "execute_result"
    },
    {
     "data": {
      "image/png": "[encoded data removed]",
      "text/plain": [
       "<Figure size 432x288 with 1 Axes>"
      ]
     },
     "metadata": {
      "needs_background": "light"
     },
     "output_type": "display_data"
    }
   ],
   "source": [
    "predictions = model(X, final_theta)\n",
    "plt.scatter(x[:,0],y)\n",
    "plt.scatter(x[:,0], predictions, c='r')\n",
    "#for i in range(n_iterations):\n",
    "    #plt.plot(x, model(x, theta_history[i]))"
   ]
  },
  {
   "cell_type": "code",
   "execution_count": 77,
   "id": "460e66df",
   "metadata": {},
   "outputs": [
    {
     "data": {
      "text/plain": [
       "[<matplotlib.lines.Line2D at 0x11ad44e20>]"
      ]
     },
     "execution_count": 77,
     "metadata": {},
     "output_type": "execute_result"
    },
    {
     "data": {
      "image/png": "[encoded data removed]",
      "text/plain": [
       "<Figure size 432x288 with 1 Axes>"
      ]
     },
     "metadata": {
      "needs_background": "light"
     },
     "output_type": "display_data"
    }
   ],
   "source": [
    "plt.plot(range(1000), cost_history)"
   ]
  },
  {
   "cell_type": "code",
   "execution_count": 78,
   "id": "02cbc29d",
   "metadata": {},
   "outputs": [],
   "source": [
    "def determination_coef(y, pred):\n",
    "    u = ((y - pred)**2).sum()\n",
    "    v = ((y - y.mean())**2).sum()\n",
    "    return 1 - u/v"
   ]
  },
  {
   "cell_type": "code",
   "execution_count": 79,
   "id": "87a257d2",
   "metadata": {},
   "outputs": [
    {
     "data": {
      "text/plain": [
       "0.9822731581025744"
      ]
     },
     "execution_count": 79,
     "metadata": {},
     "output_type": "execute_result"
    }
   ],
   "source": [
    "determination_coef(y, predictions)"
   ]
  },
  {
   "cell_type": "code",
   "execution_count": null,
   "id": "829587cf",
   "metadata": {},
   "outputs": [],
   "source": []
  }
 ],
 "metadata": {
  "kernelspec": {
   "display_name": "Python 3 (ipykernel)",
   "language": "python",
   "name": "python3"
  },
  "language_info": {
   "codemirror_mode": {
    "name": "ipython",
    "version": 3
   },
   "file_extension": ".py",
   "mimetype": "text/x-python",
   "name": "python",
   "nbconvert_exporter": "python",
   "pygments_lexer": "ipython3",
   "version": "3.9.5"
  }
 },
 "nbformat": 4,
 "nbformat_minor": 5
}
